{
 "cells": [
  {
   "cell_type": "markdown",
   "metadata": {},
   "source": [
    "## Fast Exponentiation"
   ]
  },
  {
   "cell_type": "markdown",
   "metadata": {},
   "source": [
    "### 1. Design an efficient algorithm to compute M n where M is a matrix, using the idea:\n",
    ". Convert n to a binary bit string b k···0 . <br />\n",
    ". Initialize term to M <br />\n",
    ". Initialize result to M if b 0 = 1, otherwise initialize to 1 <br />\n",
    ". Iterate over the bits b1 to bk : <br />\n",
    "    – term = term * term <br />\n",
    "    – If b i = 1, then result = result * term <br />"
   ]
  },
  {
   "cell_type": "code",
   "execution_count": 10,
   "metadata": {},
   "outputs": [],
   "source": [
    "def func(M, n, k):\n",
    "    \n",
    "    if(k == 0):\n",
    "        if(n <= 0):\n",
    "            return 0\n",
    "        if(n < 3 ):\n",
    "            return 1\n",
    "        \n",
    "    b = int(bin(n)[2:])\n",
    "\n",
    "    b = [int(x) for x in str(b)] \n",
    "\n",
    "    term = M\n",
    "\n",
    "    b = b[::-1]\n",
    "\n",
    "    res = []\n",
    "            \n",
    "    for i in range(n):         \n",
    "        a =[] \n",
    "        for j in range(n):      \n",
    "            if (i == j):\n",
    "                a.append(1)\n",
    "            else:\n",
    "                a.append(0)\n",
    "        res.append(a) \n",
    "\n",
    "    if( b[0] == 1 ):\n",
    "        res = M\n",
    "    \n",
    "    for i in range(1, len(b)): \n",
    "        term = [[sum(a * b for a, b in zip(A_row, B_col))  \n",
    "                            for B_col in zip(*term)] \n",
    "                                for A_row in term] \n",
    "        if( b[i] == 1 ):\n",
    "            res = [[sum(a * b for a, b in zip(A_row, B_col))  \n",
    "                        for B_col in zip(*term)] \n",
    "                                for A_row in res]\n",
    "    return res\n"
   ]
  },
  {
   "cell_type": "code",
   "execution_count": 12,
   "metadata": {},
   "outputs": [
    {
     "name": "stdout",
     "output_type": "stream",
     "text": [
      "Enter n: 2\n",
      "Enter number of rows: 2\n",
      "Enter number of columns: 2\n",
      "Enter matrix values: \n",
      "1\n",
      "1\n",
      "1\n",
      "0\n",
      "[[2, 1], [1, 1]]\n"
     ]
    }
   ],
   "source": [
    "n = int(input(\"Enter n: \"))\n",
    "M = []\n",
    "\n",
    "r = int(input(\"Enter number of rows: \"))\n",
    "c = int(input('Enter number of columns: '))\n",
    "\n",
    "print(\"Enter matrix values: \") \n",
    " \n",
    "for i in range(r):         \n",
    "    a =[] \n",
    "    for j in range(c):      \n",
    "         a.append(int(input())) \n",
    "    M.append(a) \n",
    "    \n",
    "k = 1\n",
    "    \n",
    "print(func(M, n, k))"
   ]
  },
  {
   "cell_type": "markdown",
   "metadata": {},
   "source": [
    "### 2. Write a function to compute f(n) , the nth Fibonacci number, using your fast matrix exponentiation algorithm."
   ]
  },
  {
   "cell_type": "code",
   "execution_count": 13,
   "metadata": {},
   "outputs": [
    {
     "name": "stdout",
     "output_type": "stream",
     "text": [
      "Enter n: 6\n",
      "The fibonacci number in position  6  is  [8]\n"
     ]
    }
   ],
   "source": [
    "M = [[1, 1],[1, 0]]\n",
    "n = int(input('Enter n: '))\n",
    "\n",
    "k = 0\n",
    "\n",
    "M = func(M, n-1, k)\n",
    "\n",
    "T = [[1],[0]]\n",
    "\n",
    "if(n>3):\n",
    "    res = [[sum(a * b for a, b in zip(A_row, B_col))  \n",
    "                        for B_col in zip(*T)] \n",
    "                                for A_row in M]\n",
    "    print('The fibonacci number in position ', n, ' is ', res[0])\n",
    "else:\n",
    "    print('The fibonacci number in position ', n, ' is ', M)"
   ]
  }
 ],
 "metadata": {
  "kernelspec": {
   "display_name": "Python 3",
   "language": "python",
   "name": "python3"
  },
  "language_info": {
   "codemirror_mode": {
    "name": "ipython",
    "version": 3
   },
   "file_extension": ".py",
   "mimetype": "text/x-python",
   "name": "python",
   "nbconvert_exporter": "python",
   "pygments_lexer": "ipython3",
   "version": "3.7.4"
  }
 },
 "nbformat": 4,
 "nbformat_minor": 2
}
