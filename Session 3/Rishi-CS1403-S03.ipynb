{
 "cells": [
  {
   "cell_type": "code",
   "execution_count": 45,
   "metadata": {},
   "outputs": [],
   "source": [
    "import random\n",
    "import time\n",
    "import pandas as pd"
   ]
  },
  {
   "cell_type": "markdown",
   "metadata": {},
   "source": [
    "## Brute - Force"
   ]
  },
  {
   "cell_type": "code",
   "execution_count": 31,
   "metadata": {},
   "outputs": [],
   "source": [
    "def bubbleSort(arr, bs):\n",
    "    n = len(arr)\n",
    "    for i in range(n):\n",
    "        for j in range(0, n-i-1):\n",
    "            if arr[j] > arr[j+1]:\n",
    "                bs += 1\n",
    "    return bs"
   ]
  },
  {
   "cell_type": "markdown",
   "metadata": {},
   "source": [
    "#### Asysmptotic notation by bubble sort : O( n^2 )"
   ]
  },
  {
   "cell_type": "markdown",
   "metadata": {},
   "source": [
    "## Merge Sort "
   ]
  },
  {
   "cell_type": "code",
   "execution_count": 38,
   "metadata": {},
   "outputs": [
    {
     "name": "stdout",
     "output_type": "stream",
     "text": [
      "Number of inversions are 5\n"
     ]
    }
   ],
   "source": [
    "def mergeSort(arr, n): \n",
    "    temp_arr = [0]*n \n",
    "    return _mergeSort(arr, temp_arr, 0, n-1) \n",
    "  \n",
    "def _mergeSort(arr, temp_arr, left, right): \n",
    "  \n",
    "    inv_count = 0\n",
    "  \n",
    "    if left < right: \n",
    "  \n",
    "        mid = (left + right)//2\n",
    "  \n",
    "        inv_count += _mergeSort(arr, temp_arr, left, mid) \n",
    "  \n",
    "        inv_count += _mergeSort(arr, temp_arr, mid + 1, right) \n",
    "\n",
    "        inv_count += merge(arr, temp_arr, left, mid, right) \n",
    "        \n",
    "    return inv_count \n",
    "  \n",
    "def merge(arr, temp_arr, left, mid, right): \n",
    "    i = left     \n",
    "    j = mid + 1  \n",
    "    k = left     \n",
    "    inv_count = 0\n",
    "  \n",
    "    while i <= mid and j <= right: \n",
    "  \n",
    "        if arr[i] <= arr[j]: \n",
    "            temp_arr[k] = arr[i] \n",
    "            k += 1\n",
    "            i += 1\n",
    "        else: \n",
    "            temp_arr[k] = arr[j] \n",
    "            inv_count += (mid-i + 1) \n",
    "            k += 1\n",
    "            j += 1\n",
    "            \n",
    "    while i <= mid: \n",
    "        temp_arr[k] = arr[i] \n",
    "        k += 1\n",
    "        i += 1\n",
    "  \n",
    "    while j <= right: \n",
    "        temp_arr[k] = arr[j] \n",
    "        k += 1\n",
    "        j += 1\n",
    "  \n",
    "    for loop_var in range(left, right + 1): \n",
    "        arr[loop_var] = temp_arr[loop_var] \n",
    "          \n",
    "    return inv_count "
   ]
  },
  {
   "cell_type": "markdown",
   "metadata": {},
   "source": [
    "#### Asysmptotic notation by merge sort : O( n log(n) )"
   ]
  },
  {
   "cell_type": "markdown",
   "metadata": {},
   "source": [
    "## Complexity Analysis"
   ]
  },
  {
   "cell_type": "code",
   "execution_count": 61,
   "metadata": {},
   "outputs": [],
   "source": [
    "n = [1000, 5000, 10000, 50000]\n",
    "\n",
    "bs = 0\n",
    "\n",
    "li = []\n",
    "\n",
    "for k in n:\n",
    "\n",
    "    l = random.sample(range(1, k+1), k)\n",
    "    \n",
    "    tmp = []\n",
    "    \n",
    "    tmp.append(k)\n",
    "    tmp.append('Bubble-Sort')\n",
    "    \n",
    "    start = time.time()\n",
    "    tmp.append(bubbleSort(l, bs))\n",
    "    tmp.append(time.time() - start)\n",
    "    \n",
    "    li.append(tmp)\n",
    "    \n",
    "    tmp = []\n",
    "    \n",
    "    tmp.append(k)\n",
    "    tmp.append('Merge-Sort')\n",
    "\n",
    "    start = time.time()\n",
    "    tmp.append(mergeSort(l, len(l)))\n",
    "    tmp.append(time.time() - start)\n",
    "    \n",
    "    li.append(tmp)\n",
    "    "
   ]
  },
  {
   "cell_type": "code",
   "execution_count": 62,
   "metadata": {},
   "outputs": [
    {
     "data": {
      "text/html": [
       "<div>\n",
       "<style scoped>\n",
       "    .dataframe tbody tr th:only-of-type {\n",
       "        vertical-align: middle;\n",
       "    }\n",
       "\n",
       "    .dataframe tbody tr th {\n",
       "        vertical-align: top;\n",
       "    }\n",
       "\n",
       "    .dataframe thead th {\n",
       "        text-align: right;\n",
       "    }\n",
       "</style>\n",
       "<table border=\"1\" class=\"dataframe\">\n",
       "  <thead>\n",
       "    <tr style=\"text-align: right;\">\n",
       "      <th></th>\n",
       "      <th>Size</th>\n",
       "      <th>Techniques</th>\n",
       "      <th>Inversions</th>\n",
       "      <th>Time Complexity</th>\n",
       "    </tr>\n",
       "  </thead>\n",
       "  <tbody>\n",
       "    <tr>\n",
       "      <th>0</th>\n",
       "      <td>1000</td>\n",
       "      <td>Bubble-Sort</td>\n",
       "      <td>246372</td>\n",
       "      <td>0.051732</td>\n",
       "    </tr>\n",
       "    <tr>\n",
       "      <th>1</th>\n",
       "      <td>1000</td>\n",
       "      <td>Merge-Sort</td>\n",
       "      <td>247153</td>\n",
       "      <td>0.002730</td>\n",
       "    </tr>\n",
       "    <tr>\n",
       "      <th>2</th>\n",
       "      <td>5000</td>\n",
       "      <td>Bubble-Sort</td>\n",
       "      <td>6197444</td>\n",
       "      <td>1.079259</td>\n",
       "    </tr>\n",
       "    <tr>\n",
       "      <th>3</th>\n",
       "      <td>5000</td>\n",
       "      <td>Merge-Sort</td>\n",
       "      <td>6253548</td>\n",
       "      <td>0.016065</td>\n",
       "    </tr>\n",
       "    <tr>\n",
       "      <th>4</th>\n",
       "      <td>10000</td>\n",
       "      <td>Bubble-Sort</td>\n",
       "      <td>25095608</td>\n",
       "      <td>4.714717</td>\n",
       "    </tr>\n",
       "    <tr>\n",
       "      <th>5</th>\n",
       "      <td>10000</td>\n",
       "      <td>Merge-Sort</td>\n",
       "      <td>25128275</td>\n",
       "      <td>0.038950</td>\n",
       "    </tr>\n",
       "    <tr>\n",
       "      <th>6</th>\n",
       "      <td>50000</td>\n",
       "      <td>Bubble-Sort</td>\n",
       "      <td>625498048</td>\n",
       "      <td>114.658122</td>\n",
       "    </tr>\n",
       "    <tr>\n",
       "      <th>7</th>\n",
       "      <td>50000</td>\n",
       "      <td>Merge-Sort</td>\n",
       "      <td>623661340</td>\n",
       "      <td>0.199983</td>\n",
       "    </tr>\n",
       "  </tbody>\n",
       "</table>\n",
       "</div>"
      ],
      "text/plain": [
       "    Size   Techniques  Inversions  Time Complexity\n",
       "0   1000  Bubble-Sort      246372         0.051732\n",
       "1   1000   Merge-Sort      247153         0.002730\n",
       "2   5000  Bubble-Sort     6197444         1.079259\n",
       "3   5000   Merge-Sort     6253548         0.016065\n",
       "4  10000  Bubble-Sort    25095608         4.714717\n",
       "5  10000   Merge-Sort    25128275         0.038950\n",
       "6  50000  Bubble-Sort   625498048       114.658122\n",
       "7  50000   Merge-Sort   623661340         0.199983"
      ]
     },
     "execution_count": 62,
     "metadata": {},
     "output_type": "execute_result"
    }
   ],
   "source": [
    "df = pd.DataFrame(li, columns=['Size', 'Techniques', 'Inversions', 'Time Complexity'])\n",
    "df"
   ]
  },
  {
   "cell_type": "code",
   "execution_count": 64,
   "metadata": {},
   "outputs": [],
   "source": [
    "df.to_excel('Session 3.xlsx')"
   ]
  }
 ],
 "metadata": {
  "kernelspec": {
   "display_name": "Python 3",
   "language": "python",
   "name": "python3"
  },
  "language_info": {
   "codemirror_mode": {
    "name": "ipython",
    "version": 3
   },
   "file_extension": ".py",
   "mimetype": "text/x-python",
   "name": "python",
   "nbconvert_exporter": "python",
   "pygments_lexer": "ipython3",
   "version": "3.7.4"
  }
 },
 "nbformat": 4,
 "nbformat_minor": 2
}
