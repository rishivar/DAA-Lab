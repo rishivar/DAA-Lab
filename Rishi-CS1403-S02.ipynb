{
 "cells": [
  {
   "cell_type": "code",
   "execution_count": 49,
   "metadata": {
    "collapsed": true
   },
   "outputs": [],
   "source": [
    "import random\n",
    "import time\n",
    "import pandas as pd\n",
    "import math"
   ]
  },
  {
   "cell_type": "code",
   "execution_count": 41,
   "metadata": {
    "collapsed": true
   },
   "outputs": [],
   "source": [
    "def ver1(l):\n",
    "    maxsum = 0\n",
    "    n = len(l)\n",
    "    for i in range(0, n):\n",
    "        for j in range(i, n):\n",
    "            thissum = 0\n",
    "            for k in range(i, j+1):\n",
    "                thissum += l[k]\n",
    "            if(thissum > maxsum):\n",
    "                maxsum = thissum\n",
    "    return maxsum"
   ]
  },
  {
   "cell_type": "code",
   "execution_count": 9,
   "metadata": {
    "collapsed": true
   },
   "outputs": [],
   "source": [
    "def main1():\n",
    "    l = []\n",
    "    n = int(input(\"Enter number of list elements: \"))\n",
    "    for i in range(n):\n",
    "        tmp = int(input(\"\\nEnter element: \"))\n",
    "        l.append(tmp)\n",
    "    maxsum = ver1(l)\n",
    "    print(\"\\n The Sum of maximum subsequence is: \", maxsum)"
   ]
  },
  {
   "cell_type": "code",
   "execution_count": 10,
   "metadata": {},
   "outputs": [
    {
     "name": "stdout",
     "output_type": "stream",
     "text": [
      "Enter number of list elements: 6\n",
      "\n",
      "Enter element: -2\n",
      "\n",
      "Enter element: 11\n",
      "\n",
      "Enter element: -4\n",
      "\n",
      "Enter element: 13\n",
      "\n",
      "Enter element: -5\n",
      "\n",
      "Enter element: -2\n",
      "\n",
      " The Sum of maximum subsequence is:  20\n"
     ]
    }
   ],
   "source": [
    "main1()"
   ]
  },
  {
   "cell_type": "code",
   "execution_count": 42,
   "metadata": {
    "collapsed": true
   },
   "outputs": [],
   "source": [
    "def ver2(l):\n",
    "    n = len(l)\n",
    "    maxsum = 0\n",
    "    for i in range(0, n):\n",
    "        thissum = 0\n",
    "        for j in range(i, n):\n",
    "            thissum += l[j]\n",
    "            if(thissum > maxsum):\n",
    "                maxsum = thissum\n",
    "    return maxsum"
   ]
  },
  {
   "cell_type": "code",
   "execution_count": 20,
   "metadata": {
    "collapsed": true
   },
   "outputs": [],
   "source": [
    "def main2():\n",
    "    l = []\n",
    "    n = int(input(\"Enter number of list elements: \"))\n",
    "    for i in range(n):\n",
    "        tmp = int(input(\"\\nEnter element: \"))\n",
    "        l.append(tmp)\n",
    "    maxsum = ver2(l)\n",
    "    print(\"\\n The Sum of maximum subsequence is: \", maxsum)"
   ]
  },
  {
   "cell_type": "code",
   "execution_count": 21,
   "metadata": {},
   "outputs": [
    {
     "name": "stdout",
     "output_type": "stream",
     "text": [
      "Enter number of list elements: 6\n",
      "\n",
      "Enter element: -2\n",
      "\n",
      "Enter element: 11\n",
      "\n",
      "Enter element: -4\n",
      "\n",
      "Enter element: 13\n",
      "\n",
      "Enter element: -5\n",
      "\n",
      "Enter element: -2\n",
      "\n",
      " The Sum of maximum subsequence is:  20\n"
     ]
    }
   ],
   "source": [
    "main2()"
   ]
  },
  {
   "cell_type": "code",
   "execution_count": 43,
   "metadata": {},
   "outputs": [],
   "source": [
    "def ver3(l):\n",
    "    maxsum = thissum = 0\n",
    "    n = len(l)\n",
    "    for j in range(0, n):\n",
    "        thissum += l[j]\n",
    "        if(thissum > maxsum):\n",
    "            maxsum = thissum\n",
    "        elif(thissum < 0):\n",
    "            thissum = 0\n",
    "    return maxsum"
   ]
  },
  {
   "cell_type": "code",
   "execution_count": 24,
   "metadata": {
    "collapsed": true
   },
   "outputs": [],
   "source": [
    "def main3():\n",
    "    l = []\n",
    "    n = int(input(\"Enter number of list elements: \"))\n",
    "    for i in range(n):\n",
    "        tmp = int(input(\"\\nEnter element: \"))\n",
    "        l.append(tmp)\n",
    "    maxsum = ver3(l)\n",
    "    print(\"\\n The Sum of maximum subsequence is: \", maxsum)"
   ]
  },
  {
   "cell_type": "code",
   "execution_count": 25,
   "metadata": {},
   "outputs": [
    {
     "name": "stdout",
     "output_type": "stream",
     "text": [
      "Enter number of list elements: 6\n",
      "\n",
      "Enter element: -2\n",
      "\n",
      "Enter element: 11\n",
      "\n",
      "Enter element: -4\n",
      "\n",
      "Enter element: 13\n",
      "\n",
      "Enter element: -5\n",
      "\n",
      "Enter element: 2\n",
      "\n",
      " The Sum of maximum subsequence is:  20\n"
     ]
    }
   ],
   "source": [
    "main3()"
   ]
  },
  {
   "cell_type": "code",
   "execution_count": 37,
   "metadata": {},
   "outputs": [
    {
     "data": {
      "text/html": [
       "<div>\n",
       "<style>\n",
       "    .dataframe thead tr:only-child th {\n",
       "        text-align: right;\n",
       "    }\n",
       "\n",
       "    .dataframe thead th {\n",
       "        text-align: left;\n",
       "    }\n",
       "\n",
       "    .dataframe tbody tr th {\n",
       "        vertical-align: top;\n",
       "    }\n",
       "</style>\n",
       "<table border=\"1\" class=\"dataframe\">\n",
       "  <thead>\n",
       "    <tr style=\"text-align: right;\">\n",
       "      <th></th>\n",
       "      <th>n</th>\n",
       "    </tr>\n",
       "  </thead>\n",
       "  <tbody>\n",
       "    <tr>\n",
       "      <th>0</th>\n",
       "      <td>10</td>\n",
       "    </tr>\n",
       "    <tr>\n",
       "      <th>1</th>\n",
       "      <td>20</td>\n",
       "    </tr>\n",
       "    <tr>\n",
       "      <th>2</th>\n",
       "      <td>50</td>\n",
       "    </tr>\n",
       "    <tr>\n",
       "      <th>3</th>\n",
       "      <td>150</td>\n",
       "    </tr>\n",
       "    <tr>\n",
       "      <th>4</th>\n",
       "      <td>300</td>\n",
       "    </tr>\n",
       "  </tbody>\n",
       "</table>\n",
       "</div>"
      ],
      "text/plain": [
       "     n\n",
       "0   10\n",
       "1   20\n",
       "2   50\n",
       "3  150\n",
       "4  300"
      ]
     },
     "execution_count": 37,
     "metadata": {},
     "output_type": "execute_result"
    }
   ],
   "source": [
    "df = pd.DataFrame([[10], [20], [50], [150], [300]], columns=list('n'))\n",
    "df"
   ]
  },
  {
   "cell_type": "code",
   "execution_count": 48,
   "metadata": {},
   "outputs": [
    {
     "name": "stdout",
     "output_type": "stream",
     "text": [
      "n\tAvg T(n)\tlog(n)\tn\tn2\tn3\t2^n\n",
      "5 \t 0.0010963678359985352\n",
      "6 \t 0.002031707763671875\n",
      "9 \t 0.005199646949768067\n",
      "10 \t 0.007410407066345215\n"
     ]
    }
   ],
   "source": [
    "#n = [10, 20, 50, 150, 300]\n",
    "n = [5,6,9,10]\n",
    "D = dict()\n",
    "\n",
    "print(\"n\\tAvg T(n)\\tlog(n)\\tn\\tn2\\tn3\\t2^n\")\n",
    "\n",
    "for i in n:\n",
    "    l = []\n",
    "    diff1 = 0\n",
    "    diff2 = 0\n",
    "    diff3 = 0\n",
    "    for m in range(10):\n",
    "        for _ in range(i):\n",
    "            tmp = random.randint(-100, 100)\n",
    "            l.append(tmp)\n",
    "\n",
    "        start_time1 = time.time()\n",
    "        ver1(l)\n",
    "        diff1 += time.time() - start_time1\n",
    "        \n",
    "        start_time2 = time.time()\n",
    "        ver2(l)\n",
    "        diff2 += time.time() - start_time2\n",
    "        \n",
    "        start_time3 = time.time()\n",
    "        ver3(l)\n",
    "        diff3 += time.time() - start_time3\n",
    "        \n",
    "    print(i,'\\t',diff1/10)\n",
    "    l1 = l2 = l3 = []\n",
    "    l1[0].append(diff1/10)\n",
    "    l2[1].append(diff2/10)\n",
    "    l3[2].append(diff3/10)\n",
    "    \n",
    "    l1[0].append(diff1/math.log(i))\n",
    "    l2[1].append(diff2/math.log(i))\n",
    "    l3[2].append(diff3/math.log(i))\n",
    "    \n",
    "    l1[0].append(diff1/i)\n",
    "    l2[1].append(diff2/i)\n",
    "    l3[2].append(diff3/i)\n",
    "    \n",
    "    l1[0].append(diff1/i**2)\n",
    "    l2[1].append(diff2/i**2)\n",
    "    l3[2].append(diff3/i**2)\n",
    "    \n",
    "    l1[0].append(diff1/i)\n",
    "    l2[1].append(diff2/i)\n",
    "    l3[2].append(diff3/i)\n",
    "    #print(i,'\\t',diff2/10)\n",
    "    #print(i,'\\t',diff3/10)"
   ]
  },
  {
   "cell_type": "code",
   "execution_count": null,
   "metadata": {
    "collapsed": true
   },
   "outputs": [],
   "source": [
    "import time\n",
    "start_time = time.time()\n",
    "main()\n",
    "print(\"--- %s seconds ---\" % (time.time() - start_time))"
   ]
  }
 ],
 "metadata": {
  "kernelspec": {
   "display_name": "Python 3",
   "language": "python",
   "name": "python3"
  },
  "language_info": {
   "codemirror_mode": {
    "name": "ipython",
    "version": 3
   },
   "file_extension": ".py",
   "mimetype": "text/x-python",
   "name": "python",
   "nbconvert_exporter": "python",
   "pygments_lexer": "ipython3",
   "version": "3.6.1"
  }
 },
 "nbformat": 4,
 "nbformat_minor": 2
}
